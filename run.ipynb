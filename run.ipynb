{
 "cells": [
  {
   "cell_type": "code",
   "id": "initial_id",
   "metadata": {
    "collapsed": true,
    "ExecuteTime": {
     "end_time": "2024-10-16T15:50:51.534517Z",
     "start_time": "2024-10-16T15:50:44.101442Z"
    }
   },
   "source": "!unzip data/dataset.zip -d data",
   "outputs": [
    {
     "name": "stdout",
     "output_type": "stream",
     "text": [
      "Archive:  data/dataset.zip\r\n",
      "replace data/dataset/x_train.csv? [y]es, [n]o, [A]ll, [N]one, [r]ename: ^C\r\n"
     ]
    }
   ],
   "execution_count": 5
  },
  {
   "metadata": {
    "ExecuteTime": {
     "end_time": "2024-10-27T08:27:12.409105Z",
     "start_time": "2024-10-27T08:27:12.344191Z"
    }
   },
   "cell_type": "code",
   "source": "import numpy as np",
   "id": "c204ad0c1b648a48",
   "outputs": [],
   "execution_count": 2
  },
  {
   "metadata": {
    "ExecuteTime": {
     "end_time": "2024-10-27T08:28:15.373090Z",
     "start_time": "2024-10-27T08:27:12.771256Z"
    }
   },
   "cell_type": "code",
   "source": [
    "# load data from csv\n",
    "x_train = np.genfromtxt('data/dataset/x_train.csv', delimiter=',')"
   ],
   "id": "ec083892c93709b1",
   "outputs": [],
   "execution_count": 3
  },
  {
   "metadata": {
    "ExecuteTime": {
     "end_time": "2024-10-27T08:33:32.945001Z",
     "start_time": "2024-10-27T08:33:32.941190Z"
    }
   },
   "cell_type": "code",
   "source": "x_train.shape",
   "id": "bd050430c52e1b55",
   "outputs": [
    {
     "data": {
      "text/plain": [
       "(328136, 322)"
      ]
     },
     "execution_count": 7,
     "metadata": {},
     "output_type": "execute_result"
    }
   ],
   "execution_count": 7
  },
  {
   "metadata": {},
   "cell_type": "code",
   "outputs": [],
   "execution_count": null,
   "source": "",
   "id": "b5a0657949ab93ca"
  }
 ],
 "metadata": {
  "kernelspec": {
   "display_name": "Python 3",
   "language": "python",
   "name": "python3"
  },
  "language_info": {
   "codemirror_mode": {
    "name": "ipython",
    "version": 2
   },
   "file_extension": ".py",
   "mimetype": "text/x-python",
   "name": "python",
   "nbconvert_exporter": "python",
   "pygments_lexer": "ipython2",
   "version": "2.7.6"
  }
 },
 "nbformat": 4,
 "nbformat_minor": 5
}
